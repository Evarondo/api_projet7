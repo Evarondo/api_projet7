{
 "cells": [
  {
   "cell_type": "code",
   "execution_count": null,
   "id": "24dd7d94",
   "metadata": {},
   "outputs": [
    {
     "name": "stderr",
     "output_type": "stream",
     "text": [
      "INFO:     Started server process [10132]\n",
      "INFO:     Waiting for application startup.\n",
      "INFO:     Application startup complete.\n",
      "INFO:     Uvicorn running on http://0.0.0.0:8003 (Press CTRL+C to quit)\n"
     ]
    }
   ],
   "source": [
    "import os\n",
    "from fastapi import FastAPI\n",
    "from pydantic import BaseModel\n",
    "import uvicorn\n",
    "from data_processing import df, data_prob, optimal_threshold\n",
    "\n",
    "class ClientSearch(BaseModel):\n",
    "    client_id: int\n",
    "\n",
    "app = FastAPI()\n",
    "\n",
    "@app.get(\"/clients/{client_id}\")\n",
    "async def get_client_info(client_id: int, optimal_threshold: float = optimal_threshold):\n",
    "    # On récupère les informations du client à partir du DataFrame (df)\n",
    "    client_info = df[df['SK_ID_CURR'] == client_id]\n",
    "    \n",
    "    if not client_info.empty:\n",
    "        identifiant = int(client_info.iloc[0]['SK_ID_CURR'])\n",
    "        genre = str(client_info.iloc[0]['CODE_GENDER'])\n",
    "        age = int(client_info.iloc[0]['AGE'])\n",
    "        profession = str(client_info.iloc[0]['OCCUPATION_TYPE'])\n",
    "        revenu = float(client_info.iloc[0]['AMT_INCOME_TOTAL'])\n",
    "        nb_enfants = int(client_info.iloc[0]['CNT_CHILDREN'])\n",
    "        statut_fam = str(client_info.iloc[0]['NAME_FAMILY_STATUS'])\n",
    "        \n",
    "        type_contrat = str(client_info.iloc[0]['NAME_CONTRACT_TYPE'])\n",
    "        montant_credit = float(client_info.iloc[0]['AMT_CREDIT'])\n",
    "        \n",
    "        # On récupère la probabilité client\n",
    "        client_proba = float(data_prob.loc[data_prob['SK_ID_CURR'] == client_id, 'Proba'])\n",
    "        \n",
    "        # Comparaison de la probabilité prédite avec le seuil optimal\n",
    "        if client_proba > optimal_threshold:\n",
    "            position = \"Refusé\"\n",
    "            position_color = \"red\"\n",
    "        else:\n",
    "            position = \"Accepté\"\n",
    "            position_color = \"green\"\n",
    "\n",
    "        # Dictionnaire avec les informations client\n",
    "        response = {\n",
    "            \"Identifiant client:\": identifiant,\n",
    "            \"Genre :\": genre,\n",
    "            \"Age :\": age,\n",
    "            \"Type de profession :\": profession,\n",
    "            \"Revenu total :\": revenu,\n",
    "            \"Nombre d'enfants:\": nb_enfants,\n",
    "            \"Statut familial:\": statut_fam,\n",
    "            \"Type de contrat:\": type_contrat,\n",
    "            \"Montant du crédit:\": montant_credit,\n",
    "            \"Score du client:\": client_proba,\n",
    "            \"Position du client par rapport au seuil:\": position\n",
    "        }\n",
    "\n",
    "        return response\n",
    "    else:\n",
    "        return {\"message\": \"Client non trouvé\"}\n",
    "\n",
    "if __name__ == \"__main__\":\n",
    "    port = int(os.environ.get(\"PORT\", 8003))\n",
    "    uvicorn.run(app, host=\"0.0.0.0\", port=port)"
   ]
  },
  {
   "cell_type": "code",
   "execution_count": null,
   "id": "4937c907",
   "metadata": {},
   "outputs": [],
   "source": []
  }
 ],
 "metadata": {
  "kernelspec": {
   "display_name": "Python 3 (ipykernel)",
   "language": "python",
   "name": "python3"
  },
  "language_info": {
   "codemirror_mode": {
    "name": "ipython",
    "version": 3
   },
   "file_extension": ".py",
   "mimetype": "text/x-python",
   "name": "python",
   "nbconvert_exporter": "python",
   "pygments_lexer": "ipython3",
   "version": "3.10.9"
  }
 },
 "nbformat": 4,
 "nbformat_minor": 5
}
